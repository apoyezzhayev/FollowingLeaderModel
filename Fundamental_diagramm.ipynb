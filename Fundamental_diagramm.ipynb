{
 "cells": [
  {
   "cell_type": "markdown",
   "metadata": {},
   "source": [
    "# Read data from xml"
   ]
  },
  {
   "cell_type": "code",
   "execution_count": 1,
   "metadata": {},
   "outputs": [],
   "source": [
    "import numpy as np\n",
    "import matplotlib.pyplot as plt\n",
    "import pandas as pd\n",
    "%matplotlib inline"
   ]
  },
  {
   "cell_type": "code",
   "execution_count": 2,
   "metadata": {},
   "outputs": [],
   "source": [
    "import xml.etree.ElementTree as ET\n",
    "from itertools import chain"
   ]
  },
  {
   "cell_type": "code",
   "execution_count": 3,
   "metadata": {},
   "outputs": [],
   "source": [
    "def get_dynamic_data(xml_file):\n",
    "    def process_interval(interval):\n",
    "        for e in interval.findall('edge'):\n",
    "            for lane in e.findall('lane'):            \n",
    "                yield {\n",
    "                    'begin': float(interval.get('begin')),\n",
    "                    'lane_id': lane.get('id'),\n",
    "                    'density': float(lane.get('density', 0)),\n",
    "                    'speed': float(lane.get('speed', 0)),\n",
    "                    'occupancy': float(lane.get('occupancy', 0))\n",
    "                }\n",
    "\n",
    "    def convert_to_csv(xml_file):\n",
    "        root = ET.parse(xml_file).getroot()\n",
    "        intervals = root.findall('interval')\n",
    "        data = pd.DataFrame(chain(*map(process_interval, intervals)), columns=['begin', 'lane_id', 'density', 'speed','occupancy'])\n",
    "        data['density'] = data.density / 1000 # convert from veh/km to veh/m\n",
    "        data['flow'] = data['density'] * data['speed'] # add flow column\n",
    "        return data\n",
    "    \n",
    "    return convert_to_csv(xml_file)\n",
    "\n",
    "def get_static_data(xml_file):\n",
    "    def process_edge(edge):\n",
    "        for lane in edge.findall('lane'):            \n",
    "            yield {\n",
    "                'lane_id': lane.get('id'),\n",
    "                'max_speed': float(lane.get('speed', 0)),\n",
    "            }\n",
    "    def convert_to_csv(xml_file):\n",
    "        root = ET.parse(xml_file).getroot()\n",
    "        edges = root.findall('edge')\n",
    "        data = pd.DataFrame(chain(*map(process_edge, edges)), columns=['lane_id', 'max_speed'])\n",
    "        return data\n",
    "    return convert_to_csv(xml_file)"
   ]
  },
  {
   "cell_type": "code",
   "execution_count": 4,
   "metadata": {},
   "outputs": [],
   "source": [
    "# Get data for 3 different models\n",
    "data_default_lanes = get_dynamic_data('maryland/fundamental_out.xml')\n",
    "data_platoons_lanes = get_dynamic_data('maryland/fundamental_out_platoons_model.xml')\n",
    "data_gm_lanes = get_dynamic_data('maryland/fundamental_out_GM_model.xml')"
   ]
  },
  {
   "cell_type": "code",
   "execution_count": 9,
   "metadata": {},
   "outputs": [],
   "source": [
    "lanes_data = get_static_data('maryland/moco.net.xml')"
   ]
  },
  {
   "cell_type": "code",
   "execution_count": 10,
   "metadata": {},
   "outputs": [],
   "source": [
    "ALL_LANES = lanes_data.lane_id.values.tolist()"
   ]
  },
  {
   "cell_type": "code",
   "execution_count": 11,
   "metadata": {},
   "outputs": [],
   "source": [
    "def get_lane_max_speed(lane_id):\n",
    "    return float(lanes_data[lanes_data['lane_id'] == lane_id].max_speed)"
   ]
  },
  {
   "cell_type": "code",
   "execution_count": 12,
   "metadata": {},
   "outputs": [
    {
     "data": {
      "text/html": [
       "<div>\n",
       "<style scoped>\n",
       "    .dataframe tbody tr th:only-of-type {\n",
       "        vertical-align: middle;\n",
       "    }\n",
       "\n",
       "    .dataframe tbody tr th {\n",
       "        vertical-align: top;\n",
       "    }\n",
       "\n",
       "    .dataframe thead th {\n",
       "        text-align: right;\n",
       "    }\n",
       "</style>\n",
       "<table border=\"1\" class=\"dataframe\">\n",
       "  <thead>\n",
       "    <tr style=\"text-align: right;\">\n",
       "      <th></th>\n",
       "      <th>begin</th>\n",
       "      <th>density</th>\n",
       "      <th>speed</th>\n",
       "      <th>occupancy</th>\n",
       "      <th>flow</th>\n",
       "    </tr>\n",
       "  </thead>\n",
       "  <tbody>\n",
       "    <tr>\n",
       "      <th>count</th>\n",
       "      <td>331680.00000</td>\n",
       "      <td>331680.000000</td>\n",
       "      <td>331680.000000</td>\n",
       "      <td>331680.000000</td>\n",
       "      <td>331680.000000</td>\n",
       "    </tr>\n",
       "    <tr>\n",
       "      <th>mean</th>\n",
       "      <td>7170.00000</td>\n",
       "      <td>0.012394</td>\n",
       "      <td>3.532547</td>\n",
       "      <td>4.862615</td>\n",
       "      <td>0.038310</td>\n",
       "    </tr>\n",
       "    <tr>\n",
       "      <th>std</th>\n",
       "      <td>4156.89212</td>\n",
       "      <td>0.036644</td>\n",
       "      <td>7.233093</td>\n",
       "      <td>15.011197</td>\n",
       "      <td>0.155996</td>\n",
       "    </tr>\n",
       "    <tr>\n",
       "      <th>min</th>\n",
       "      <td>0.00000</td>\n",
       "      <td>0.000000</td>\n",
       "      <td>0.000000</td>\n",
       "      <td>0.000000</td>\n",
       "      <td>0.000000</td>\n",
       "    </tr>\n",
       "    <tr>\n",
       "      <th>25%</th>\n",
       "      <td>3585.00000</td>\n",
       "      <td>0.000000</td>\n",
       "      <td>0.000000</td>\n",
       "      <td>0.000000</td>\n",
       "      <td>0.000000</td>\n",
       "    </tr>\n",
       "    <tr>\n",
       "      <th>50%</th>\n",
       "      <td>7170.00000</td>\n",
       "      <td>0.000000</td>\n",
       "      <td>0.000000</td>\n",
       "      <td>0.000000</td>\n",
       "      <td>0.000000</td>\n",
       "    </tr>\n",
       "    <tr>\n",
       "      <th>75%</th>\n",
       "      <td>10755.00000</td>\n",
       "      <td>0.003020</td>\n",
       "      <td>1.100000</td>\n",
       "      <td>1.040000</td>\n",
       "      <td>0.017676</td>\n",
       "    </tr>\n",
       "    <tr>\n",
       "      <th>max</th>\n",
       "      <td>14340.00000</td>\n",
       "      <td>0.200000</td>\n",
       "      <td>34.340000</td>\n",
       "      <td>100.000000</td>\n",
       "      <td>5.272000</td>\n",
       "    </tr>\n",
       "  </tbody>\n",
       "</table>\n",
       "</div>"
      ],
      "text/plain": [
       "              begin        density          speed      occupancy  \\\n",
       "count  331680.00000  331680.000000  331680.000000  331680.000000   \n",
       "mean     7170.00000       0.012394       3.532547       4.862615   \n",
       "std      4156.89212       0.036644       7.233093      15.011197   \n",
       "min         0.00000       0.000000       0.000000       0.000000   \n",
       "25%      3585.00000       0.000000       0.000000       0.000000   \n",
       "50%      7170.00000       0.000000       0.000000       0.000000   \n",
       "75%     10755.00000       0.003020       1.100000       1.040000   \n",
       "max     14340.00000       0.200000      34.340000     100.000000   \n",
       "\n",
       "                flow  \n",
       "count  331680.000000  \n",
       "mean        0.038310  \n",
       "std         0.155996  \n",
       "min         0.000000  \n",
       "25%         0.000000  \n",
       "50%         0.000000  \n",
       "75%         0.017676  \n",
       "max         5.272000  "
      ]
     },
     "execution_count": 12,
     "metadata": {},
     "output_type": "execute_result"
    }
   ],
   "source": [
    "data_default_lanes.describe()"
   ]
  },
  {
   "cell_type": "code",
   "execution_count": 13,
   "metadata": {},
   "outputs": [
    {
     "data": {
      "text/html": [
       "<div>\n",
       "<style scoped>\n",
       "    .dataframe tbody tr th:only-of-type {\n",
       "        vertical-align: middle;\n",
       "    }\n",
       "\n",
       "    .dataframe tbody tr th {\n",
       "        vertical-align: top;\n",
       "    }\n",
       "\n",
       "    .dataframe thead th {\n",
       "        text-align: right;\n",
       "    }\n",
       "</style>\n",
       "<table border=\"1\" class=\"dataframe\">\n",
       "  <thead>\n",
       "    <tr style=\"text-align: right;\">\n",
       "      <th></th>\n",
       "      <th>begin</th>\n",
       "      <th>density</th>\n",
       "      <th>speed</th>\n",
       "      <th>occupancy</th>\n",
       "      <th>flow</th>\n",
       "    </tr>\n",
       "  </thead>\n",
       "  <tbody>\n",
       "    <tr>\n",
       "      <th>count</th>\n",
       "      <td>41460.0000</td>\n",
       "      <td>41460.000000</td>\n",
       "      <td>41460.000000</td>\n",
       "      <td>41460.000000</td>\n",
       "      <td>41460.000000</td>\n",
       "    </tr>\n",
       "    <tr>\n",
       "      <th>mean</th>\n",
       "      <td>1740.0000</td>\n",
       "      <td>0.005825</td>\n",
       "      <td>5.538335</td>\n",
       "      <td>2.053508</td>\n",
       "      <td>0.052511</td>\n",
       "    </tr>\n",
       "    <tr>\n",
       "      <th>std</th>\n",
       "      <td>1038.6655</td>\n",
       "      <td>0.016833</td>\n",
       "      <td>8.258314</td>\n",
       "      <td>6.317128</td>\n",
       "      <td>0.172762</td>\n",
       "    </tr>\n",
       "    <tr>\n",
       "      <th>min</th>\n",
       "      <td>0.0000</td>\n",
       "      <td>0.000000</td>\n",
       "      <td>0.000000</td>\n",
       "      <td>0.000000</td>\n",
       "      <td>0.000000</td>\n",
       "    </tr>\n",
       "    <tr>\n",
       "      <th>25%</th>\n",
       "      <td>840.0000</td>\n",
       "      <td>0.000000</td>\n",
       "      <td>0.000000</td>\n",
       "      <td>0.000000</td>\n",
       "      <td>0.000000</td>\n",
       "    </tr>\n",
       "    <tr>\n",
       "      <th>50%</th>\n",
       "      <td>1740.0000</td>\n",
       "      <td>0.000000</td>\n",
       "      <td>0.000000</td>\n",
       "      <td>0.000000</td>\n",
       "      <td>0.000000</td>\n",
       "    </tr>\n",
       "    <tr>\n",
       "      <th>75%</th>\n",
       "      <td>2640.0000</td>\n",
       "      <td>0.004350</td>\n",
       "      <td>11.190000</td>\n",
       "      <td>1.550000</td>\n",
       "      <td>0.048963</td>\n",
       "    </tr>\n",
       "    <tr>\n",
       "      <th>max</th>\n",
       "      <td>3480.0000</td>\n",
       "      <td>0.133330</td>\n",
       "      <td>31.270000</td>\n",
       "      <td>91.190000</td>\n",
       "      <td>3.545245</td>\n",
       "    </tr>\n",
       "  </tbody>\n",
       "</table>\n",
       "</div>"
      ],
      "text/plain": [
       "            begin       density         speed     occupancy          flow\n",
       "count  41460.0000  41460.000000  41460.000000  41460.000000  41460.000000\n",
       "mean    1740.0000      0.005825      5.538335      2.053508      0.052511\n",
       "std     1038.6655      0.016833      8.258314      6.317128      0.172762\n",
       "min        0.0000      0.000000      0.000000      0.000000      0.000000\n",
       "25%      840.0000      0.000000      0.000000      0.000000      0.000000\n",
       "50%     1740.0000      0.000000      0.000000      0.000000      0.000000\n",
       "75%     2640.0000      0.004350     11.190000      1.550000      0.048963\n",
       "max     3480.0000      0.133330     31.270000     91.190000      3.545245"
      ]
     },
     "execution_count": 13,
     "metadata": {},
     "output_type": "execute_result"
    }
   ],
   "source": [
    "data_platoons_lanes.describe()"
   ]
  },
  {
   "cell_type": "code",
   "execution_count": 14,
   "metadata": {},
   "outputs": [
    {
     "data": {
      "text/html": [
       "<div>\n",
       "<style scoped>\n",
       "    .dataframe tbody tr th:only-of-type {\n",
       "        vertical-align: middle;\n",
       "    }\n",
       "\n",
       "    .dataframe tbody tr th {\n",
       "        vertical-align: top;\n",
       "    }\n",
       "\n",
       "    .dataframe thead th {\n",
       "        text-align: right;\n",
       "    }\n",
       "</style>\n",
       "<table border=\"1\" class=\"dataframe\">\n",
       "  <thead>\n",
       "    <tr style=\"text-align: right;\">\n",
       "      <th></th>\n",
       "      <th>begin</th>\n",
       "      <th>density</th>\n",
       "      <th>speed</th>\n",
       "      <th>occupancy</th>\n",
       "      <th>flow</th>\n",
       "    </tr>\n",
       "  </thead>\n",
       "  <tbody>\n",
       "    <tr>\n",
       "      <th>count</th>\n",
       "      <td>41460.0000</td>\n",
       "      <td>41460.000000</td>\n",
       "      <td>41460.000000</td>\n",
       "      <td>41460.000000</td>\n",
       "      <td>41460.000000</td>\n",
       "    </tr>\n",
       "    <tr>\n",
       "      <th>mean</th>\n",
       "      <td>1740.0000</td>\n",
       "      <td>0.003720</td>\n",
       "      <td>3.576780</td>\n",
       "      <td>1.476235</td>\n",
       "      <td>0.009292</td>\n",
       "    </tr>\n",
       "    <tr>\n",
       "      <th>std</th>\n",
       "      <td>1038.6655</td>\n",
       "      <td>0.015236</td>\n",
       "      <td>7.483844</td>\n",
       "      <td>6.681589</td>\n",
       "      <td>0.036052</td>\n",
       "    </tr>\n",
       "    <tr>\n",
       "      <th>min</th>\n",
       "      <td>0.0000</td>\n",
       "      <td>0.000000</td>\n",
       "      <td>0.000000</td>\n",
       "      <td>0.000000</td>\n",
       "      <td>0.000000</td>\n",
       "    </tr>\n",
       "    <tr>\n",
       "      <th>25%</th>\n",
       "      <td>840.0000</td>\n",
       "      <td>0.000000</td>\n",
       "      <td>0.000000</td>\n",
       "      <td>0.000000</td>\n",
       "      <td>0.000000</td>\n",
       "    </tr>\n",
       "    <tr>\n",
       "      <th>50%</th>\n",
       "      <td>1740.0000</td>\n",
       "      <td>0.000000</td>\n",
       "      <td>0.000000</td>\n",
       "      <td>0.000000</td>\n",
       "      <td>0.000000</td>\n",
       "    </tr>\n",
       "    <tr>\n",
       "      <th>75%</th>\n",
       "      <td>2640.0000</td>\n",
       "      <td>0.000740</td>\n",
       "      <td>0.400000</td>\n",
       "      <td>0.270000</td>\n",
       "      <td>0.008199</td>\n",
       "    </tr>\n",
       "    <tr>\n",
       "      <th>max</th>\n",
       "      <td>3480.0000</td>\n",
       "      <td>0.133330</td>\n",
       "      <td>32.160000</td>\n",
       "      <td>105.960000</td>\n",
       "      <td>1.275217</td>\n",
       "    </tr>\n",
       "  </tbody>\n",
       "</table>\n",
       "</div>"
      ],
      "text/plain": [
       "            begin       density         speed     occupancy          flow\n",
       "count  41460.0000  41460.000000  41460.000000  41460.000000  41460.000000\n",
       "mean    1740.0000      0.003720      3.576780      1.476235      0.009292\n",
       "std     1038.6655      0.015236      7.483844      6.681589      0.036052\n",
       "min        0.0000      0.000000      0.000000      0.000000      0.000000\n",
       "25%      840.0000      0.000000      0.000000      0.000000      0.000000\n",
       "50%     1740.0000      0.000000      0.000000      0.000000      0.000000\n",
       "75%     2640.0000      0.000740      0.400000      0.270000      0.008199\n",
       "max     3480.0000      0.133330     32.160000    105.960000      1.275217"
      ]
     },
     "execution_count": 14,
     "metadata": {},
     "output_type": "execute_result"
    }
   ],
   "source": [
    "data_gm_lanes.describe()"
   ]
  },
  {
   "cell_type": "markdown",
   "metadata": {},
   "source": [
    "# Plot fundamental diagram"
   ]
  },
  {
   "cell_type": "code",
   "execution_count": 15,
   "metadata": {},
   "outputs": [],
   "source": [
    "def get_fundamental(way_id, data, max_rho=0.20, verbose=True):\n",
    "    lane = data.loc[way_id]\n",
    "    # exclude max density flows\n",
    "#     lane = lane[lane['density'] != max_rho]\n",
    "    # rho_1 and Q_1\n",
    "    rho_1, q_1 = lane.loc[lane.flow.idxmax()][['density', 'flow']]\n",
    "\n",
    "    rho_max = max(max_rho, lane.density.max())\n",
    "    \n",
    "    # Get values of free flow\n",
    "    free_flow = lane[lane.density.between(rho_1 * 3 / 8, rho_1 * 5 / 8)]\n",
    "    try:\n",
    "        rho_0, q_0 = free_flow.loc[free_flow.flow.idxmax()][['density', 'flow']]\n",
    "    except ValueError:\n",
    "        if verbose:\n",
    "            print('There are no points in the interval of `free flow`: rho in [%.3f : %.3f]' % (rho_1 * 3 / 8, rho_1 * 5 / 8))\n",
    "        rho_0, q_0 = rho_1, q_1\n",
    "        \n",
    "    # Get rho_2 and Q_2\n",
    "    max_flow = lane.flow.max()\n",
    "    max_density = lane.density.max()\n",
    "    if max_flow == 0 or max_density == 0:\n",
    "        q_2, rho_2 = 0., 0.\n",
    "    else:\n",
    "        most_distant_point = lane.loc[((lane.flow / lane.flow.max()).pow(2) + (lane.density / lane.density.max()).pow(2)).pow(1./2).idxmax()]\n",
    "        q_2, rho_2 = most_distant_point.flow, most_distant_point.density\n",
    "    \n",
    "    if verbose:\n",
    "        print('Q0:{:.3f}\\nQ1:{:.3f}\\nQ2:{:.3f}\\nrho0:{:.3f}\\nrho1:{:.3f}\\nrho2:{:.3f}\\nrho*:{:.3f}'.format(q_0, q_1, q_2, rho_0, rho_1, rho_2, rho_max))\n",
    "        print('free_flow | {:3.3f}:{:3.3f}(rho_1)\\nsync_flow | {:3.3f}(rho_1):{:3.3f}(rho_2)\\njam_flow  | {:3.3f}(rho_2):{:3.3f}(rho_*)'.format(0, rho_1, rho_1, rho_2, rho_2, rho_max))\n",
    "    \n",
    "    return rho_0, rho_1, rho_2, rho_max, q_0, q_1, q_2"
   ]
  },
  {
   "cell_type": "code",
   "execution_count": 16,
   "metadata": {},
   "outputs": [],
   "source": [
    "def plot_fundamental(way_id, data):\n",
    "    rho_0, rho_1, rho_2, rho_max, q_0, q_1, q_2 = get_fundamental(way_id, data)\n",
    "    lane = data.loc[way_id]\n",
    "    \n",
    "    fig, (ax0, ax1) = plt.subplots(ncols=2, figsize=(8, 4))\n",
    "    fig.suptitle('Way id: %s' % way_id)\n",
    "    ax0.set_title('Fundamental diagram')\n",
    "    ax0.set_xlabel('Density, veh/m')\n",
    "    ax0.grid()\n",
    "    ax0.set_ylabel('Flow, veh/s')\n",
    "    ax0.scatter(lane.density, lane.flow)\n",
    "\n",
    "    ax1.set_title('Optimal speed')\n",
    "    ax1.set_xlabel('Density, veh/m')\n",
    "    ax1.set_ylabel('V, m/s')\n",
    "    ax1.grid()\n",
    "    ax1.scatter(lane.density, lane.speed)\n",
    "    \n",
    "    for ax in [ax0, ax1]:\n",
    "        ax.axvline(x=0, linestyle='-', c='r')\n",
    "        ax.axvline(x=rho_1, linestyle='-', c='g')\n",
    "        ax.axvline(x=rho_2, linestyle='--', c='b')\n",
    "        ax.axvline(x=rho_max, linestyle='--', c='r')\n",
    "\n",
    "    fig.tight_layout()\n",
    "    return fig, ax0, ax1"
   ]
  },
  {
   "cell_type": "code",
   "execution_count": 17,
   "metadata": {},
   "outputs": [],
   "source": [
    "def plot_hulls(way_id, data):\n",
    "    rho_0, rho_1, rho_2, rho_max, q_0, q_1, q_2 = get_fundamental(way_id, data)\n",
    "    lane = data.loc[way_id]\n",
    "    points = lane[['density', 'speed']].values\n",
    "    points[:2] > 0.01"
   ]
  },
  {
   "cell_type": "markdown",
   "metadata": {},
   "source": [
    "## Average over the road "
   ]
  },
  {
   "cell_type": "code",
   "execution_count": 18,
   "metadata": {},
   "outputs": [],
   "source": [
    "# Get the data indexed by road and lane ids and time of detection\n",
    "def average_over_lanes(data):\n",
    "    t_data = data.copy()\n",
    "    t_data[['road_id', 'lane_id']] = t_data.lane_id.str.rsplit('_', n=1, expand=True)\n",
    "    return t_data.groupby(['road_id', 'begin']).mean(), data.groupby(['lane_id', 'begin']).mean()"
   ]
  },
  {
   "cell_type": "code",
   "execution_count": 19,
   "metadata": {},
   "outputs": [],
   "source": [
    "data_default_roads, data_default_lanes = average_over_lanes(data_default_lanes)\n",
    "data_platoons_roads, data_platoons_lanes = average_over_lanes(data_platoons_lanes)\n",
    "data_gm_roads, data_gm_lanes = average_over_lanes(data_gm_lanes)"
   ]
  },
  {
   "cell_type": "code",
   "execution_count": 20,
   "metadata": {},
   "outputs": [],
   "source": [
    "ALL_ROADS = data_default_roads.index.levels[0].tolist()"
   ]
  },
  {
   "cell_type": "code",
   "execution_count": 21,
   "metadata": {},
   "outputs": [
    {
     "data": {
      "text/html": [
       "<div>\n",
       "<style scoped>\n",
       "    .dataframe tbody tr th:only-of-type {\n",
       "        vertical-align: middle;\n",
       "    }\n",
       "\n",
       "    .dataframe tbody tr th {\n",
       "        vertical-align: top;\n",
       "    }\n",
       "\n",
       "    .dataframe thead th {\n",
       "        text-align: right;\n",
       "    }\n",
       "</style>\n",
       "<table border=\"1\" class=\"dataframe\">\n",
       "  <thead>\n",
       "    <tr style=\"text-align: right;\">\n",
       "      <th></th>\n",
       "      <th></th>\n",
       "      <th>density</th>\n",
       "      <th>speed</th>\n",
       "      <th>occupancy</th>\n",
       "      <th>flow</th>\n",
       "    </tr>\n",
       "    <tr>\n",
       "      <th>lane_id</th>\n",
       "      <th>begin</th>\n",
       "      <th></th>\n",
       "      <th></th>\n",
       "      <th></th>\n",
       "      <th></th>\n",
       "    </tr>\n",
       "  </thead>\n",
       "  <tbody>\n",
       "    <tr>\n",
       "      <th rowspan=\"5\" valign=\"top\">gneE17_1</th>\n",
       "      <th>14100.0</th>\n",
       "      <td>0.00195</td>\n",
       "      <td>13.36</td>\n",
       "      <td>0.94</td>\n",
       "      <td>0.026052</td>\n",
       "    </tr>\n",
       "    <tr>\n",
       "      <th>14160.0</th>\n",
       "      <td>0.00000</td>\n",
       "      <td>0.00</td>\n",
       "      <td>0.00</td>\n",
       "      <td>0.000000</td>\n",
       "    </tr>\n",
       "    <tr>\n",
       "      <th>14220.0</th>\n",
       "      <td>0.00000</td>\n",
       "      <td>0.00</td>\n",
       "      <td>0.00</td>\n",
       "      <td>0.000000</td>\n",
       "    </tr>\n",
       "    <tr>\n",
       "      <th>14280.0</th>\n",
       "      <td>0.00000</td>\n",
       "      <td>0.00</td>\n",
       "      <td>0.00</td>\n",
       "      <td>0.000000</td>\n",
       "    </tr>\n",
       "    <tr>\n",
       "      <th>14340.0</th>\n",
       "      <td>0.00090</td>\n",
       "      <td>13.38</td>\n",
       "      <td>0.43</td>\n",
       "      <td>0.012042</td>\n",
       "    </tr>\n",
       "  </tbody>\n",
       "</table>\n",
       "</div>"
      ],
      "text/plain": [
       "                  density  speed  occupancy      flow\n",
       "lane_id  begin                                       \n",
       "gneE17_1 14100.0  0.00195  13.36       0.94  0.026052\n",
       "         14160.0  0.00000   0.00       0.00  0.000000\n",
       "         14220.0  0.00000   0.00       0.00  0.000000\n",
       "         14280.0  0.00000   0.00       0.00  0.000000\n",
       "         14340.0  0.00090  13.38       0.43  0.012042"
      ]
     },
     "execution_count": 21,
     "metadata": {},
     "output_type": "execute_result"
    }
   ],
   "source": [
    "# Example\n",
    "data_default_lanes.tail(5)"
   ]
  },
  {
   "cell_type": "code",
   "execution_count": 22,
   "metadata": {},
   "outputs": [
    {
     "data": {
      "text/html": [
       "<div>\n",
       "<style scoped>\n",
       "    .dataframe tbody tr th:only-of-type {\n",
       "        vertical-align: middle;\n",
       "    }\n",
       "\n",
       "    .dataframe tbody tr th {\n",
       "        vertical-align: top;\n",
       "    }\n",
       "\n",
       "    .dataframe thead th {\n",
       "        text-align: right;\n",
       "    }\n",
       "</style>\n",
       "<table border=\"1\" class=\"dataframe\">\n",
       "  <thead>\n",
       "    <tr style=\"text-align: right;\">\n",
       "      <th></th>\n",
       "      <th></th>\n",
       "      <th>density</th>\n",
       "      <th>speed</th>\n",
       "      <th>occupancy</th>\n",
       "      <th>flow</th>\n",
       "    </tr>\n",
       "    <tr>\n",
       "      <th>road_id</th>\n",
       "      <th>begin</th>\n",
       "      <th></th>\n",
       "      <th></th>\n",
       "      <th></th>\n",
       "      <th></th>\n",
       "    </tr>\n",
       "  </thead>\n",
       "  <tbody>\n",
       "    <tr>\n",
       "      <th rowspan=\"5\" valign=\"top\">gneE17.147</th>\n",
       "      <th>14100.0</th>\n",
       "      <td>0.013498</td>\n",
       "      <td>2.840</td>\n",
       "      <td>6.740</td>\n",
       "      <td>0.025812</td>\n",
       "    </tr>\n",
       "    <tr>\n",
       "      <th>14160.0</th>\n",
       "      <td>0.013116</td>\n",
       "      <td>2.484</td>\n",
       "      <td>6.482</td>\n",
       "      <td>0.031502</td>\n",
       "    </tr>\n",
       "    <tr>\n",
       "      <th>14220.0</th>\n",
       "      <td>0.007376</td>\n",
       "      <td>2.832</td>\n",
       "      <td>3.674</td>\n",
       "      <td>0.022402</td>\n",
       "    </tr>\n",
       "    <tr>\n",
       "      <th>14280.0</th>\n",
       "      <td>0.017148</td>\n",
       "      <td>2.020</td>\n",
       "      <td>8.512</td>\n",
       "      <td>0.025953</td>\n",
       "    </tr>\n",
       "    <tr>\n",
       "      <th>14340.0</th>\n",
       "      <td>0.004526</td>\n",
       "      <td>5.798</td>\n",
       "      <td>2.230</td>\n",
       "      <td>0.029132</td>\n",
       "    </tr>\n",
       "  </tbody>\n",
       "</table>\n",
       "</div>"
      ],
      "text/plain": [
       "                     density  speed  occupancy      flow\n",
       "road_id    begin                                        \n",
       "gneE17.147 14100.0  0.013498  2.840      6.740  0.025812\n",
       "           14160.0  0.013116  2.484      6.482  0.031502\n",
       "           14220.0  0.007376  2.832      3.674  0.022402\n",
       "           14280.0  0.017148  2.020      8.512  0.025953\n",
       "           14340.0  0.004526  5.798      2.230  0.029132"
      ]
     },
     "execution_count": 22,
     "metadata": {},
     "output_type": "execute_result"
    }
   ],
   "source": [
    "# Example\n",
    "data_default_roads.tail()"
   ]
  },
  {
   "cell_type": "code",
   "execution_count": 23,
   "metadata": {},
   "outputs": [
    {
     "data": {
      "text/html": [
       "<div>\n",
       "<style scoped>\n",
       "    .dataframe tbody tr th:only-of-type {\n",
       "        vertical-align: middle;\n",
       "    }\n",
       "\n",
       "    .dataframe tbody tr th {\n",
       "        vertical-align: top;\n",
       "    }\n",
       "\n",
       "    .dataframe thead th {\n",
       "        text-align: right;\n",
       "    }\n",
       "</style>\n",
       "<table border=\"1\" class=\"dataframe\">\n",
       "  <thead>\n",
       "    <tr style=\"text-align: right;\">\n",
       "      <th></th>\n",
       "      <th>density</th>\n",
       "      <th>speed</th>\n",
       "      <th>occupancy</th>\n",
       "      <th>flow</th>\n",
       "    </tr>\n",
       "    <tr>\n",
       "      <th>road_id</th>\n",
       "      <th></th>\n",
       "      <th></th>\n",
       "      <th></th>\n",
       "      <th></th>\n",
       "    </tr>\n",
       "  </thead>\n",
       "  <tbody>\n",
       "    <tr>\n",
       "      <th>:290051915_0</th>\n",
       "      <td>0.086468</td>\n",
       "      <td>22.945292</td>\n",
       "      <td>2.449187</td>\n",
       "      <td>2.126359</td>\n",
       "    </tr>\n",
       "    <tr>\n",
       "      <th>:1688843682_0</th>\n",
       "      <td>0.139714</td>\n",
       "      <td>8.500854</td>\n",
       "      <td>4.346938</td>\n",
       "      <td>1.307794</td>\n",
       "    </tr>\n",
       "    <tr>\n",
       "      <th>:298136038_0</th>\n",
       "      <td>0.044185</td>\n",
       "      <td>21.667104</td>\n",
       "      <td>1.919062</td>\n",
       "      <td>1.051389</td>\n",
       "    </tr>\n",
       "    <tr>\n",
       "      <th>:648538912_0</th>\n",
       "      <td>0.028246</td>\n",
       "      <td>22.986333</td>\n",
       "      <td>2.451062</td>\n",
       "      <td>0.694340</td>\n",
       "    </tr>\n",
       "    <tr>\n",
       "      <th>:648538786_0</th>\n",
       "      <td>0.013383</td>\n",
       "      <td>11.573528</td>\n",
       "      <td>0.378764</td>\n",
       "      <td>0.332068</td>\n",
       "    </tr>\n",
       "  </tbody>\n",
       "</table>\n",
       "</div>"
      ],
      "text/plain": [
       "                density      speed  occupancy      flow\n",
       "road_id                                                \n",
       ":290051915_0   0.086468  22.945292   2.449187  2.126359\n",
       ":1688843682_0  0.139714   8.500854   4.346938  1.307794\n",
       ":298136038_0   0.044185  21.667104   1.919062  1.051389\n",
       ":648538912_0   0.028246  22.986333   2.451062  0.694340\n",
       ":648538786_0   0.013383  11.573528   0.378764  0.332068"
      ]
     },
     "execution_count": 23,
     "metadata": {},
     "output_type": "execute_result"
    }
   ],
   "source": [
    "# Let's find the most loaded roads\n",
    "data_default_roads.groupby('road_id').mean().sort_values('flow', ascending=False).head(5)"
   ]
  },
  {
   "cell_type": "markdown",
   "metadata": {},
   "source": [
    "# Get characteristic values"
   ]
  },
  {
   "cell_type": "markdown",
   "metadata": {},
   "source": [
    "### Utility"
   ]
  },
  {
   "cell_type": "code",
   "execution_count": 25,
   "metadata": {},
   "outputs": [],
   "source": [
    "def free_flow_segment(q_0, q_1, rho_1):\n",
    "    alpha_1 = (4 * q_0 - q_1) / rho_1\n",
    "    alpha_2 = 2 * (q_1 - 2*q_0) / rho_1 / rho_1\n",
    "    print(rho_1 / 0.0025)\n",
    "    rho = np.linspace(0, rho_1, rho_1 / 0.0025)\n",
    "    q = np.square(rho) * alpha_2 + rho * alpha_1\n",
    "    return rho, q\n",
    "\n",
    "def jam_flow_segment(q_2, rho_2, rho_max):\n",
    "    c_star = q_2 / (rho_max - rho_2)\n",
    "    rho = np.linspace(rho_2, rho_max, (rho_max - rho_2) / 0.0025)\n",
    "    q = c_star * (rho_max - rho)\n",
    "    return rho, q"
   ]
  },
  {
   "cell_type": "code",
   "execution_count": 26,
   "metadata": {},
   "outputs": [],
   "source": [
    "from scipy.spatial import ConvexHull, convex_hull_plot_2d\n",
    "\n",
    "def plot_convex_hull_(points):\n",
    "    hull = ConvexHull(points)\n",
    "    plt.plot(points[:,0], points[:,1], 'o')\n",
    "    for simplex in hull.simplices:\n",
    "        plt.plot(points[simplex, 0], points[simplex, 1], 'k-')\n",
    "\n",
    "def plot_convex_hull(way_id, data, y='flow'):    \n",
    "    lane = data.loc[way_id]\n",
    "    points = lane[['density', y]].values\n",
    "    plot_convex_hull_(points)"
   ]
  },
  {
   "cell_type": "code",
   "execution_count": 27,
   "metadata": {},
   "outputs": [
    {
     "data": {
      "image/png": "[encoded data removed]",
      "text/plain": [
       "<Figure size 432x288 with 1 Axes>"
      ]
     },
     "metadata": {
      "needs_background": "light"
     },
     "output_type": "display_data"
    }
   ],
   "source": [
    "# Example of convex hull\n",
    "plot_convex_hull(':290051915_0', data_default_roads, y='speed')"
   ]
  },
  {
   "cell_type": "markdown",
   "metadata": {},
   "source": [
    "### Fundamental diagrams examples"
   ]
  },
  {
   "cell_type": "code",
   "execution_count": 28,
   "metadata": {},
   "outputs": [
    {
     "name": "stdout",
     "output_type": "stream",
     "text": [
      "Q0:2.975\n",
      "Q1:5.050\n",
      "Q2:5.050\n",
      "rho0:0.111\n",
      "rho1:0.200\n",
      "rho2:0.200\n",
      "rho*:0.200\n",
      "free_flow | 0.000:0.200(rho_1)\n",
      "sync_flow | 0.200(rho_1):0.200(rho_2)\n",
      "jam_flow  | 0.200(rho_2):0.200(rho_*)\n"
     ]
    },
    {
     "data": {
      "text/plain": [
       "(<Figure size 576x288 with 2 Axes>,\n",
       " <matplotlib.axes._subplots.AxesSubplot at 0x13df435d0>,\n",
       " <matplotlib.axes._subplots.AxesSubplot at 0x13ded2950>)"
      ]
     },
     "execution_count": 28,
     "metadata": {},
     "output_type": "execute_result"
    },
    {
     "data": {
      "image/png": "[encoded data removed]",
      "text/plain": [
       "<Figure size 576x288 with 2 Axes>"
      ]
     },
     "metadata": {
      "needs_background": "light"
     },
     "output_type": "display_data"
    }
   ],
   "source": [
    "plot_fundamental(':1688843682_0', data_default_roads)"
   ]
  },
  {
   "cell_type": "code",
   "execution_count": 29,
   "metadata": {},
   "outputs": [
    {
     "name": "stdout",
     "output_type": "stream",
     "text": [
      "Q0:0.036\n",
      "Q1:0.072\n",
      "Q2:0.022\n",
      "rho0:0.002\n",
      "rho1:0.006\n",
      "rho2:0.034\n",
      "rho*:0.200\n",
      "free_flow | 0.000:0.006(rho_1)\n",
      "sync_flow | 0.006(rho_1):0.034(rho_2)\n",
      "jam_flow  | 0.034(rho_2):0.200(rho_*)\n"
     ]
    },
    {
     "data": {
      "text/plain": [
       "(<Figure size 576x288 with 2 Axes>,\n",
       " <matplotlib.axes._subplots.AxesSubplot at 0x13ddadd90>,\n",
       " <matplotlib.axes._subplots.AxesSubplot at 0x13df3bf50>)"
      ]
     },
     "execution_count": 29,
     "metadata": {},
     "output_type": "execute_result"
    },
    {
     "data": {
      "image/png": "[encoded data removed]",
      "text/plain": [
       "<Figure size 576x288 with 2 Axes>"
      ]
     },
     "metadata": {
      "needs_background": "light"
     },
     "output_type": "display_data"
    }
   ],
   "source": [
    "plot_fundamental('-50846713#1_2', data_default_lanes)"
   ]
  },
  {
   "cell_type": "markdown",
   "metadata": {},
   "source": [
    "### Interpolate function"
   ]
  },
  {
   "cell_type": "code",
   "execution_count": 30,
   "metadata": {},
   "outputs": [],
   "source": [
    "from scipy.interpolate import UnivariateSpline"
   ]
  },
  {
   "cell_type": "code",
   "execution_count": 31,
   "metadata": {},
   "outputs": [],
   "source": [
    "def adjust_nonunique_x(a, eps=1e-5):\n",
    "    uniq, inv, counts = np.unique(a[:, 0], return_counts=True, return_inverse=True)\n",
    "    for u, c in zip(uniq, counts):\n",
    "        if c > 1:\n",
    "            mask = a[:, 0] == u\n",
    "            non_unique_vals = a[mask]\n",
    "            non_unique_idx = np.nonzero(mask)[0]\n",
    "            i = non_unique_idx[non_unique_vals[:, 1].argsort()]\n",
    "            a = np.delete(a, i[:-1], axis=0)\n",
    "    return a"
   ]
  },
  {
   "cell_type": "code",
   "execution_count": 32,
   "metadata": {},
   "outputs": [],
   "source": [
    "import alphashape\n",
    "import matplotlib.pyplot as plt\n",
    "from descartes import PolygonPatch\n",
    "\n",
    "def interpolate_fundamental(way_id, data, y_axis='speed', vis=True, verbose=True):    \n",
    "    # Calculate fundamental critical points\n",
    "    rho_0, rho_1, rho_2, rho_max, q_0, q_1, q_2 = get_fundamental(way_id, data, verbose=verbose)\n",
    "\n",
    "    # Get lane points\n",
    "    lane = data.loc[way_id]\n",
    "    points = np.unique(lane[['density', y_axis]].values, axis=0)\n",
    "    \n",
    "    # Plot segments\n",
    "    if vis:\n",
    "        fig, ax = plt.subplots()\n",
    "        ax.axvline(x=0, linestyle='-', c='r')\n",
    "        ax.axvline(x=rho_1, linestyle='-', c='g')\n",
    "        ax.axvline(x=rho_2, linestyle='--', c='b')\n",
    "        ax.axvline(x=rho_max, linestyle='--', c='r')\n",
    "        ax.scatter(points[:, 0], points[:, 1], color='b', s=7)\n",
    "        ax.set_xlim(0, 0.21)\n",
    "        ax.set_title(way_id)\n",
    "    \n",
    "    # Interpolate by splines\n",
    "    segments = [(0, rho_1), (rho_1, rho_2), (rho_2, rho_max)]\n",
    "    all_selected_points = []\n",
    "    for ind, seg in enumerate(segments):\n",
    "        seg_points = points[np.where(np.logical_and(points[:, 0] >= seg[0], points[:, 0] <= seg[1]))]\n",
    "#         print('Segment', seg)\n",
    "        selected_pts, hull = interpolate_points(seg_points)\n",
    "\n",
    "        # Add terminal points\n",
    "        if ind == 2 and not (selected_pts[:, 0] == 0.2).any():\n",
    "            selected_pts = np.append(selected_pts, [0.2, 0.]).reshape(-1, 2) \n",
    "            \n",
    "#         print('Seg points', np.unique(selected_pts, axis=0))\n",
    "\n",
    "        # Add last point if necessary\n",
    "        if len(selected_pts > 0):\n",
    "            all_selected_points.append(selected_pts)\n",
    "            if vis:\n",
    "                if hull is not None:\n",
    "                    ax.add_patch(PolygonPatch(hull, fill=False, color='green'))\n",
    "                ax.scatter(selected_pts[:, 0], selected_pts[:, 1], color='red', s=10)\n",
    "    all_selected_points = np.vstack(all_selected_points)\n",
    "    all_selected_points = make_increasing_x((all_selected_points[:, 0], all_selected_points[:, 1]))\n",
    "    spl = UnivariateSpline(all_selected_points[:, 0], all_selected_points[:, 1], k=1, s=0, ext=3)\n",
    "    # Plot spline\n",
    "    if vis:\n",
    "        smooth_x = np.linspace(0, 0.2, 100)\n",
    "        ax.plot(smooth_x, spl(smooth_x), lw=2, c='m')\n",
    "    plt.show()\n",
    "    return spl\n",
    "        \n",
    "def make_increasing_x(points):\n",
    "    # Filter all points which go left (if x(n) < x(n-1))\n",
    "    x_prev = -1\n",
    "    y_prev = 1000\n",
    "    selected_pts = []\n",
    "    for x, y in zip(*points):\n",
    "        if x > x_prev:\n",
    "            x_prev = x\n",
    "            if y <= y_prev:\n",
    "                y_prev = y\n",
    "            else:\n",
    "                selected_pts.pop(-1)\n",
    "            selected_pts.append((x, y))\n",
    "            \n",
    "    return np.array(selected_pts)\n",
    "    \n",
    "\n",
    "def interpolate_points(points):\n",
    "    # find alpha hull\n",
    "#     alpha = 0.95 * alphashape.optimizealpha(points)\n",
    "    if len(np.unique(points, axis=0)) > 2:\n",
    "        # Build alpha-hull\n",
    "        if len(np.unique(points[:, 0])) < 2:\n",
    "            hull_pts = points[:, 0], points[:, 1]\n",
    "            hull = None\n",
    "        else:\n",
    "            alpha = 0.0015\n",
    "            try:\n",
    "                hull = alphashape.alphashape(points, alpha=alpha)\n",
    "                hull_pts = hull.exterior.coords.xy\n",
    "            except AttributeError:\n",
    "                print('Cannot find conacave hull, finding the convex hull')\n",
    "                alpha = 0.\n",
    "                hull = alphashape.alphashape(points, alpha=alpha)\n",
    "                hull_pts = hull.exterior.coords.xy\n",
    "                \n",
    "        # Get only top points\n",
    "        x, y = np.array(hull_pts[0]), np.array(hull_pts[1])\n",
    "        y_max_ind = np.argmax(y)\n",
    "        potenital_x_max = x == np.max(x)\n",
    "        most_right = int(np.max(np.nonzero(y == np.max(y[potenital_x_max]))[0]))\n",
    "        if y_max_ind <= most_right:\n",
    "            top_points = x[y_max_ind:most_right + 1], y[y_max_ind:most_right + 1]\n",
    "        else:\n",
    "            top_points = np.append(x[y_max_ind:-1],  x[:most_right + 1]), np.append(y[y_max_ind:-1], y[:most_right + 1])\n",
    "    else:\n",
    "        top_points = points[:, 0], points[:, 1]\n",
    "        hull = None\n",
    "    selected_pts = make_increasing_x(top_points)\n",
    "    return selected_pts, hull"
   ]
  },
  {
   "cell_type": "code",
   "execution_count": 33,
   "metadata": {},
   "outputs": [
    {
     "name": "stdout",
     "output_type": "stream",
     "text": [
      "Q0:2.975\n",
      "Q1:5.050\n",
      "Q2:5.050\n",
      "rho0:0.111\n",
      "rho1:0.200\n",
      "rho2:0.200\n",
      "rho*:0.200\n",
      "free_flow | 0.000:0.200(rho_1)\n",
      "sync_flow | 0.200(rho_1):0.200(rho_2)\n",
      "jam_flow  | 0.200(rho_2):0.200(rho_*)\n"
     ]
    },
    {
     "data": {
      "image/png": "[encoded data removed]",
      "text/plain": [
       "<Figure size 432x288 with 1 Axes>"
      ]
     },
     "metadata": {
      "needs_background": "light"
     },
     "output_type": "display_data"
    },
    {
     "data": {
      "text/plain": [
       "<scipy.interpolate.fitpack2.InterpolatedUnivariateSpline at 0x13dd50790>"
      ]
     },
     "execution_count": 33,
     "metadata": {},
     "output_type": "execute_result"
    }
   ],
   "source": [
    "interpolate_fundamental(':1688843682_0', data_default_roads, y_axis='speed')"
   ]
  },
  {
   "cell_type": "code",
   "execution_count": 34,
   "metadata": {},
   "outputs": [
    {
     "name": "stdout",
     "output_type": "stream",
     "text": [
      "Q0:0.284\n",
      "Q1:0.390\n",
      "Q2:0.390\n",
      "rho0:0.038\n",
      "rho1:0.060\n",
      "rho2:0.060\n",
      "rho*:0.200\n",
      "free_flow | 0.000:0.060(rho_1)\n",
      "sync_flow | 0.060(rho_1):0.060(rho_2)\n",
      "jam_flow  | 0.060(rho_2):0.200(rho_*)\n"
     ]
    },
    {
     "data": {
      "image/png": "[encoded data removed]",
      "text/plain": [
       "<Figure size 432x288 with 1 Axes>"
      ]
     },
     "metadata": {
      "needs_background": "light"
     },
     "output_type": "display_data"
    },
    {
     "data": {
      "text/plain": [
       "<scipy.interpolate.fitpack2.InterpolatedUnivariateSpline at 0x148e32050>"
      ]
     },
     "execution_count": 34,
     "metadata": {},
     "output_type": "execute_result"
    }
   ],
   "source": [
    "interpolate_fundamental(':-50846720#6.20_0_3', data_default_lanes)"
   ]
  },
  {
   "cell_type": "markdown",
   "metadata": {},
   "source": [
    "# Different roads"
   ]
  },
  {
   "cell_type": "code",
   "execution_count": 35,
   "metadata": {},
   "outputs": [
    {
     "name": "stderr",
     "output_type": "stream",
     "text": [
      "/Users/arseniy/miniconda3/envs/tm/lib/python2.7/site-packages/ipykernel_launcher.py:1: TqdmExperimentalWarning: Using `tqdm.autonotebook.tqdm` in notebook mode. Use `tqdm.tqdm` instead to force console mode (e.g. in jupyter console)\n",
      "  \"\"\"Entry point for launching an IPython kernel.\n"
     ]
    }
   ],
   "source": [
    "from tqdm.autonotebook import tqdm\n",
    "def plot_samples(sample_ids, data):\n",
    "    for sample in tqdm(sample_ids):\n",
    "        interpolate_fundamental(sample, data, y_axis='speed', vis=True, verbose=False)"
   ]
  },
  {
   "cell_type": "code",
   "execution_count": 36,
   "metadata": {},
   "outputs": [
    {
     "data": {
      "application/vnd.jupyter.widget-view+json": {
       "model_id": "f357105a8f5c4affb1eb4e30eee5004f",
       "version_major": 2,
       "version_minor": 0
      },
      "text/plain": [
       "HBox(children=(FloatProgress(value=0.0, max=2.0), HTML(value=u'')))"
      ]
     },
     "metadata": {},
     "output_type": "display_data"
    },
    {
     "data": {
      "image/png": "[encoded data removed]",
      "text/plain": [
       "<Figure size 432x288 with 1 Axes>"
      ]
     },
     "metadata": {
      "needs_background": "light"
     },
     "output_type": "display_data"
    },
    {
     "data": {
      "image/png": "[encoded data removed]",
      "text/plain": [
       "<Figure size 432x288 with 1 Axes>"
      ]
     },
     "metadata": {
      "needs_background": "light"
     },
     "output_type": "display_data"
    },
    {
     "name": "stdout",
     "output_type": "stream",
     "text": [
      "\n"
     ]
    }
   ],
   "source": [
    "# Plot some roads\n",
    "plot_samples(ALL_ROADS[1:3], data_default_roads)"
   ]
  },
  {
   "cell_type": "markdown",
   "metadata": {},
   "source": [
    "## Comparison"
   ]
  },
  {
   "cell_type": "markdown",
   "metadata": {},
   "source": [
    "Compare the same roads for different roads. Let's take union of top 5 roads by `flow` for each model and compare them"
   ]
  },
  {
   "cell_type": "code",
   "execution_count": 37,
   "metadata": {},
   "outputs": [],
   "source": [
    "top_roads_default = data_default_roads.groupby('road_id').mean().sort_values('flow', ascending=False).head(10)\n",
    "top_roads_platoons = data_platoons_roads.groupby('road_id').mean().sort_values('flow', ascending=False).head(10)\n",
    "top_roads_gm = data_gm_roads.groupby('road_id').mean().sort_values('flow', ascending=False).head(10)"
   ]
  },
  {
   "cell_type": "code",
   "execution_count": 38,
   "metadata": {},
   "outputs": [],
   "source": [
    "def compare(idx, default, gm, platoons):\n",
    "    interpolate_fundamental(idx, default, y_axis='speed', vis=True, verbose=False)\n",
    "    interpolate_fundamental(idx, gm, y_axis='speed', vis=True, verbose=False)\n",
    "    interpolate_fundamental(idx, platoons, y_axis='speed', vis=True, verbose=False)"
   ]
  },
  {
   "cell_type": "code",
   "execution_count": 39,
   "metadata": {},
   "outputs": [],
   "source": [
    "idx_for_comparsion = top_roads_default.index.union(top_roads_platoons.index).union(top_roads_gm.index)"
   ]
  },
  {
   "cell_type": "code",
   "execution_count": 40,
   "metadata": {},
   "outputs": [
    {
     "data": {
      "image/png": "[encoded data removed]",
      "text/plain": [
       "<Figure size 432x288 with 1 Axes>"
      ]
     },
     "metadata": {
      "needs_background": "light"
     },
     "output_type": "display_data"
    },
    {
     "name": "stdout",
     "output_type": "stream",
     "text": [
      "Cannot find conacave hull, finding the convex hull\n"
     ]
    },
    {
     "data": {
      "image/png": "[encoded data removed]",
      "text/plain": [
       "<Figure size 432x288 with 1 Axes>"
      ]
     },
     "metadata": {
      "needs_background": "light"
     },
     "output_type": "display_data"
    },
    {
     "data": {
      "image/png": "[encoded data removed]",
      "text/plain": [
       "<Figure size 432x288 with 1 Axes>"
      ]
     },
     "metadata": {
      "needs_background": "light"
     },
     "output_type": "display_data"
    }
   ],
   "source": [
    "compare(idx_for_comparsion[5], data_default_roads, data_gm_roads, data_platoons_roads)"
   ]
  },
  {
   "cell_type": "markdown",
   "metadata": {},
   "source": [
    "# Build lane functions"
   ]
  },
  {
   "cell_type": "markdown",
   "metadata": {},
   "source": [
    "Lane functions to get $dv/d\\rho$ for each lane. The functions are estimated by default following model model of SUMO (modified Krauss) and then used in General Motors model to estimate $\\alpha$"
   ]
  },
  {
   "cell_type": "code",
   "execution_count": null,
   "metadata": {},
   "outputs": [],
   "source": [
    "from tqdm.autonotebook import tqdm\n",
    "lane_dvdr = {}\n",
    "for lane_id in tqdm(ALL_LANES):\n",
    "    spl = interpolate_fundamental(lane_id, data_default_lanes, y_axis='speed', vis=False, verbose=False)\n",
    "    lane_dvdr[lane_id] = spl.derivative(1)"
   ]
  },
  {
   "cell_type": "code",
   "execution_count": null,
   "metadata": {},
   "outputs": [],
   "source": [
    "# Check\n",
    "spl = interpolate_fundamental('gneE17.147_3', data_default_lanes, y_axis='speed', vis=True)\n",
    "der = spl.derivative(1)\n",
    "for i in np.linspace(0, 0.2, 20):\n",
    "    print(der(i))"
   ]
  },
  {
   "cell_type": "markdown",
   "metadata": {},
   "source": [
    "# Save and load"
   ]
  },
  {
   "cell_type": "code",
   "execution_count": 5,
   "metadata": {},
   "outputs": [],
   "source": [
    "import pickle"
   ]
  },
  {
   "cell_type": "code",
   "execution_count": null,
   "metadata": {},
   "outputs": [],
   "source": [
    "with open('dvdr.pickle', 'w') as f:\n",
    "    pickle.dump(lane_dvdr, f)"
   ]
  },
  {
   "cell_type": "code",
   "execution_count": 7,
   "metadata": {},
   "outputs": [],
   "source": [
    "with open('dvdr_gm.pickle', 'r') as f:\n",
    "    s = pickle.load(f)"
   ]
  },
  {
   "cell_type": "code",
   "execution_count": 47,
   "metadata": {},
   "outputs": [
    {
     "data": {
      "text/html": [
       "<div>\n",
       "<style scoped>\n",
       "    .dataframe tbody tr th:only-of-type {\n",
       "        vertical-align: middle;\n",
       "    }\n",
       "\n",
       "    .dataframe tbody tr th {\n",
       "        vertical-align: top;\n",
       "    }\n",
       "\n",
       "    .dataframe thead th {\n",
       "        text-align: right;\n",
       "    }\n",
       "</style>\n",
       "<table border=\"1\" class=\"dataframe\">\n",
       "  <thead>\n",
       "    <tr style=\"text-align: right;\">\n",
       "      <th></th>\n",
       "      <th>density</th>\n",
       "      <th>speed</th>\n",
       "      <th>occupancy</th>\n",
       "      <th>flow</th>\n",
       "    </tr>\n",
       "    <tr>\n",
       "      <th>road_id</th>\n",
       "      <th></th>\n",
       "      <th></th>\n",
       "      <th></th>\n",
       "      <th></th>\n",
       "    </tr>\n",
       "  </thead>\n",
       "  <tbody>\n",
       "    <tr>\n",
       "      <th>:1559811808_4</th>\n",
       "      <td>0.195240</td>\n",
       "      <td>0.871833</td>\n",
       "      <td>62.750333</td>\n",
       "      <td>0.145676</td>\n",
       "    </tr>\n",
       "    <tr>\n",
       "      <th>:-50846769.75_0</th>\n",
       "      <td>0.159111</td>\n",
       "      <td>2.601937</td>\n",
       "      <td>52.991104</td>\n",
       "      <td>0.141941</td>\n",
       "    </tr>\n",
       "    <tr>\n",
       "      <th>:1688843682_0</th>\n",
       "      <td>0.139714</td>\n",
       "      <td>8.500854</td>\n",
       "      <td>4.346938</td>\n",
       "      <td>1.307794</td>\n",
       "    </tr>\n",
       "    <tr>\n",
       "      <th>-50846769.75</th>\n",
       "      <td>0.131209</td>\n",
       "      <td>2.602479</td>\n",
       "      <td>50.538646</td>\n",
       "      <td>0.087064</td>\n",
       "    </tr>\n",
       "    <tr>\n",
       "      <th>-50846720#0</th>\n",
       "      <td>0.120122</td>\n",
       "      <td>0.784333</td>\n",
       "      <td>58.800708</td>\n",
       "      <td>0.085731</td>\n",
       "    </tr>\n",
       "    <tr>\n",
       "      <th>-50846720#6</th>\n",
       "      <td>0.119348</td>\n",
       "      <td>2.731583</td>\n",
       "      <td>41.834292</td>\n",
       "      <td>0.077500</td>\n",
       "    </tr>\n",
       "    <tr>\n",
       "      <th>:243728741#3.83_0</th>\n",
       "      <td>0.116855</td>\n",
       "      <td>2.118889</td>\n",
       "      <td>21.437500</td>\n",
       "      <td>0.070366</td>\n",
       "    </tr>\n",
       "    <tr>\n",
       "      <th>-50846765</th>\n",
       "      <td>0.112471</td>\n",
       "      <td>2.588292</td>\n",
       "      <td>48.357000</td>\n",
       "      <td>0.072041</td>\n",
       "    </tr>\n",
       "    <tr>\n",
       "      <th>:116069075#0.376_0</th>\n",
       "      <td>0.110741</td>\n",
       "      <td>2.623021</td>\n",
       "      <td>40.681760</td>\n",
       "      <td>0.188763</td>\n",
       "    </tr>\n",
       "    <tr>\n",
       "      <th>-50846720#8</th>\n",
       "      <td>0.108594</td>\n",
       "      <td>2.630229</td>\n",
       "      <td>53.762229</td>\n",
       "      <td>0.059033</td>\n",
       "    </tr>\n",
       "  </tbody>\n",
       "</table>\n",
       "</div>"
      ],
      "text/plain": [
       "                     density     speed  occupancy      flow\n",
       "road_id                                                    \n",
       ":1559811808_4       0.195240  0.871833  62.750333  0.145676\n",
       ":-50846769.75_0     0.159111  2.601937  52.991104  0.141941\n",
       ":1688843682_0       0.139714  8.500854   4.346938  1.307794\n",
       "-50846769.75        0.131209  2.602479  50.538646  0.087064\n",
       "-50846720#0         0.120122  0.784333  58.800708  0.085731\n",
       "-50846720#6         0.119348  2.731583  41.834292  0.077500\n",
       ":243728741#3.83_0   0.116855  2.118889  21.437500  0.070366\n",
       "-50846765           0.112471  2.588292  48.357000  0.072041\n",
       ":116069075#0.376_0  0.110741  2.623021  40.681760  0.188763\n",
       "-50846720#8         0.108594  2.630229  53.762229  0.059033"
      ]
     },
     "execution_count": 47,
     "metadata": {},
     "output_type": "execute_result"
    }
   ],
   "source": [
    "data_default_roads.groupby('road_id').mean().sort_values('density', ascending=False).head(10)"
   ]
  },
  {
   "cell_type": "code",
   "execution_count": 57,
   "metadata": {},
   "outputs": [
    {
     "data": {
      "text/plain": [
       "0.8205851774840353"
      ]
     },
     "execution_count": 57,
     "metadata": {},
     "output_type": "execute_result"
    }
   ],
   "source": [
    "-0.13 * s[':1688843682_0_0'](0.13)"
   ]
  },
  {
   "cell_type": "markdown",
   "metadata": {},
   "source": [
    "# Our model"
   ]
  },
  {
   "cell_type": "code",
   "execution_count": null,
   "metadata": {},
   "outputs": [],
   "source": [
    "for lane in tqdm(all_lanes[0:20]):\n",
    "    interpolate_fundamental(lane, data, y_axis='speed', vis=True)"
   ]
  },
  {
   "cell_type": "code",
   "execution_count": null,
   "metadata": {},
   "outputs": [],
   "source": [
    "all_lanes[16]"
   ]
  },
  {
   "cell_type": "markdown",
   "metadata": {},
   "source": [
    "# Comparison"
   ]
  },
  {
   "cell_type": "code",
   "execution_count": null,
   "metadata": {},
   "outputs": [],
   "source": [
    "from pathlib2 import Path"
   ]
  },
  {
   "cell_type": "code",
   "execution_count": null,
   "metadata": {},
   "outputs": [],
   "source": [
    "p = Path('a/b/c.out')"
   ]
  },
  {
   "cell_type": "code",
   "execution_count": null,
   "metadata": {},
   "outputs": [],
   "source": [
    "os.path.splitext(p.name)"
   ]
  },
  {
   "cell_type": "code",
   "execution_count": null,
   "metadata": {},
   "outputs": [],
   "source": [
    "import os"
   ]
  },
  {
   "cell_type": "code",
   "execution_count": null,
   "metadata": {},
   "outputs": [],
   "source": [
    "os.path.splitext(os.path.basename(p))"
   ]
  }
 ],
 "metadata": {
  "kernelspec": {
   "display_name": "Transport Models: Python 2.7",
   "language": "python",
   "name": "tm"
  },
  "language_info": {
   "codemirror_mode": {
    "name": "ipython",
    "version": 2
   },
   "file_extension": ".py",
   "mimetype": "text/x-python",
   "name": "python",
   "nbconvert_exporter": "python",
   "pygments_lexer": "ipython2",
   "version": "2.7.17"
  },
  "toc-autonumbering": true,
  "toc-showcode": false,
  "toc-showmarkdowntxt": false,
  "toc-showtags": false
 },
 "nbformat": 4,
 "nbformat_minor": 4
}
